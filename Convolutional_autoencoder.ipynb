{
  "nbformat": 4,
  "nbformat_minor": 0,
  "metadata": {
    "colab": {
      "name": "Convolutional_autoencoder.ipynb",
      "provenance": [],
      "collapsed_sections": []
    },
    "kernelspec": {
      "name": "python3",
      "display_name": "Python 3"
    },
    "accelerator": "GPU"
  },
  "cells": [
    {
      "cell_type": "code",
      "metadata": {
        "id": "-mZpHLrlZ0DV",
        "colab_type": "code",
        "outputId": "c534684f-cd79-4654-e890-e75a001f06d8",
        "colab": {
          "base_uri": "https://localhost:8080/",
          "height": 142
        }
      },
      "source": [
        "%matplotlib inline\n",
        "!git clone https://github.com/MaelSa/datasets.git\n",
        "\n",
        "import torch\n",
        "import torchvision\n",
        "from torch import nn\n",
        "from torch.autograd import Variable\n",
        "from torch.utils.data import DataLoader\n",
        "from torchvision import transforms\n",
        "from torchvision.utils import save_image\n",
        "from torchvision.datasets import MNIST\n",
        "import torchvision.datasets as dset\n",
        "import os\n",
        "import numpy as np\n",
        "import matplotlib.pyplot as plt"
      ],
      "execution_count": 0,
      "outputs": [
        {
          "output_type": "stream",
          "text": [
            "Cloning into 'datasets'...\n",
            "remote: Enumerating objects: 4, done.\u001b[K\n",
            "remote: Counting objects:  25% (1/4)\u001b[K\rremote: Counting objects:  50% (2/4)\u001b[K\rremote: Counting objects:  75% (3/4)\u001b[K\rremote: Counting objects: 100% (4/4)\u001b[K\rremote: Counting objects: 100% (4/4), done.\u001b[K\n",
            "remote: Compressing objects: 100% (2/2), done.\u001b[K\n",
            "remote: Total 10204 (delta 0), reused 4 (delta 0), pack-reused 10200\u001b[K\n",
            "Receiving objects: 100% (10204/10204), 326.57 MiB | 13.00 MiB/s, done.\n",
            "Checking out files: 100% (10194/10194), done.\n"
          ],
          "name": "stdout"
        }
      ]
    },
    {
      "cell_type": "code",
      "metadata": {
        "id": "EcaVwZtoeLfQ",
        "colab_type": "code",
        "colab": {}
      },
      "source": [
        "if not os.path.exists('./dc_img'):\n",
        "    os.mkdir('./dc_img')\n",
        "\n",
        "\n",
        "def to_img(x):\n",
        "    x = 0.5 * (x + 1)\n",
        "    x = x.clamp(0, 1)\n",
        "    x = x.view(x.size(0), 3, 256, 256)\n",
        "    return x\n",
        "\n",
        "\n",
        "num_epochs = 100\n",
        "batch_size = 128\n",
        "learning_rate = 1e-3\n",
        "\n",
        "img_transform = transforms.Compose([\n",
        "    transforms.ToTensor(),\n",
        "    transforms.Normalize((0.5, 0.5, 0.5), (0.5, 0.5, 0.5))\n",
        "])\n",
        "\n",
        "dataroot = \"datasets/real\"\n",
        "\n",
        "dataset = dset.ImageFolder(root=dataroot,\n",
        "                           transform=transforms.Compose([\n",
        "                               #transforms.Grayscale(num_output_channels=1),\n",
        "                               #transforms.RandomRotation(180),\n",
        "                               transforms.Resize(256),\n",
        "                               transforms.CenterCrop(256),\n",
        "                               transforms.ToTensor(),\n",
        "                               transforms.Normalize((0.5, 0.5, 0.5), (0.5, 0.5, 0.5)),\n",
        "                      \n",
        "                           ]))\n",
        "dataloader = DataLoader(dataset, batch_size=batch_size, shuffle=True)"
      ],
      "execution_count": 0,
      "outputs": []
    },
    {
      "cell_type": "code",
      "metadata": {
        "id": "kfTm9WE6eLmd",
        "colab_type": "code",
        "colab": {}
      },
      "source": [
        "class autoencoder(nn.Module):\n",
        "    def __init__(self):\n",
        "        super(autoencoder, self).__init__()\n",
        "        self.encoder = nn.Sequential(\n",
        "            nn.Conv2d(3, 16, 3, stride=3, padding=1),  # b, 16, 10, 10\n",
        "            nn.ReLU(True),\n",
        "            nn.MaxPool2d(2, stride=2),  # b, 16, 5, 5\n",
        "            nn.Conv2d(16, 8, 3, stride=2, padding=1),  # b, 8, 3, 3\n",
        "            nn.ReLU(True),\n",
        "            nn.MaxPool2d(2, stride=1)  # b, 8, 2, 2\n",
        "        )\n",
        "        self.decoder = nn.Sequential(\n",
        "            nn.ConvTranspose2d(8, 16, 3, stride=2),  # b, 16, 5, 5\n",
        "            nn.ReLU(True),\n",
        "            nn.ConvTranspose2d(16, 8, 5, stride=3, padding=1),  # b, 8, 15, 15\n",
        "            nn.ReLU(True),\n",
        "            nn.ConvTranspose2d(8, 3, 2, stride=2, padding=1),  # b, 1, 28, 28\n",
        "            nn.Tanh()\n",
        "        )\n",
        "\n",
        "    def forward(self, x):\n",
        "        x = self.encoder(x)\n",
        "        x = self.decoder(x)\n",
        "        return x"
      ],
      "execution_count": 0,
      "outputs": []
    },
    {
      "cell_type": "code",
      "metadata": {
        "id": "4awDZaFQeLig",
        "colab_type": "code",
        "colab": {}
      },
      "source": [
        "model = autoencoder().cuda()\n",
        "criterion = nn.MSELoss()\n",
        "optimizer = torch.optim.Adam(model.parameters(), lr=learning_rate,\n",
        "                             weight_decay=1e-5)"
      ],
      "execution_count": 0,
      "outputs": []
    },
    {
      "cell_type": "code",
      "metadata": {
        "id": "jAF5OOwveVKx",
        "colab_type": "code",
        "outputId": "66d96b0e-86df-4aae-9d3f-e1f84e5d66c7",
        "colab": {
          "base_uri": "https://localhost:8080/",
          "height": 1000
        }
      },
      "source": [
        "loss_list = []\n",
        "for epoch in range(num_epochs):\n",
        "    for data in dataloader:\n",
        "        img, _ = data\n",
        "        img = Variable(img).cuda()\n",
        "        # ===================forward=====================\n",
        "        output = model(img)\n",
        "        loss = criterion(output, img)\n",
        "        # ===================backward====================\n",
        "        optimizer.zero_grad()\n",
        "        loss.backward()\n",
        "        optimizer.step()\n",
        "    # ===================log========================\n",
        "        loss_list.append(loss.item())\n",
        "    print('epoch [{}/{}], loss:{:.4f}'.format(epoch+1, num_epochs, loss.item()))\n",
        "    pic = to_img(output.cpu().data)\n",
        "    save_image(pic, './dc_img/image_{}.png'.format(epoch))\n",
        "\n",
        "\n"
      ],
      "execution_count": 0,
      "outputs": [
        {
          "output_type": "stream",
          "text": [
            "epoch [1/100], loss:0.1815\n",
            "epoch [2/100], loss:0.1846\n",
            "epoch [3/100], loss:0.1826\n",
            "epoch [4/100], loss:0.1640\n",
            "epoch [5/100], loss:0.1682\n",
            "epoch [6/100], loss:0.1634\n",
            "epoch [7/100], loss:0.1613\n",
            "epoch [8/100], loss:0.1849\n",
            "epoch [9/100], loss:0.1887\n",
            "epoch [10/100], loss:0.1562\n",
            "epoch [11/100], loss:0.1604\n",
            "epoch [12/100], loss:0.1587\n",
            "epoch [13/100], loss:0.1567\n",
            "epoch [14/100], loss:0.1471\n",
            "epoch [15/100], loss:0.1477\n",
            "epoch [16/100], loss:0.1497\n",
            "epoch [17/100], loss:0.1589\n",
            "epoch [18/100], loss:0.1391\n",
            "epoch [19/100], loss:0.1530\n",
            "epoch [20/100], loss:0.1346\n",
            "epoch [21/100], loss:0.1311\n",
            "epoch [22/100], loss:0.1415\n",
            "epoch [23/100], loss:0.1293\n",
            "epoch [24/100], loss:0.1194\n",
            "epoch [25/100], loss:0.1183\n",
            "epoch [26/100], loss:0.1026\n",
            "epoch [27/100], loss:0.1065\n",
            "epoch [28/100], loss:0.1132\n",
            "epoch [29/100], loss:0.1053\n",
            "epoch [30/100], loss:0.0927\n",
            "epoch [31/100], loss:0.0892\n",
            "epoch [32/100], loss:0.0793\n",
            "epoch [33/100], loss:0.0842\n",
            "epoch [34/100], loss:0.0748\n",
            "epoch [35/100], loss:0.0731\n",
            "epoch [36/100], loss:0.0700\n",
            "epoch [37/100], loss:0.0655\n",
            "epoch [38/100], loss:0.0602\n",
            "epoch [39/100], loss:0.0547\n",
            "epoch [40/100], loss:0.0571\n",
            "epoch [41/100], loss:0.0545\n",
            "epoch [42/100], loss:0.0510\n",
            "epoch [43/100], loss:0.0506\n",
            "epoch [44/100], loss:0.0452\n",
            "epoch [45/100], loss:0.0478\n",
            "epoch [46/100], loss:0.0442\n",
            "epoch [47/100], loss:0.0405\n",
            "epoch [48/100], loss:0.0414\n",
            "epoch [49/100], loss:0.0427\n",
            "epoch [50/100], loss:0.0381\n",
            "epoch [51/100], loss:0.0380\n",
            "epoch [52/100], loss:0.0365\n",
            "epoch [53/100], loss:0.0382\n",
            "epoch [54/100], loss:0.0334\n",
            "epoch [55/100], loss:0.0355\n",
            "epoch [56/100], loss:0.0332\n",
            "epoch [57/100], loss:0.0338\n",
            "epoch [58/100], loss:0.0318\n",
            "epoch [59/100], loss:0.0336\n",
            "epoch [60/100], loss:0.0333\n",
            "epoch [61/100], loss:0.0315\n",
            "epoch [62/100], loss:0.0313\n",
            "epoch [63/100], loss:0.0301\n",
            "epoch [64/100], loss:0.0299\n",
            "epoch [65/100], loss:0.0282\n",
            "epoch [66/100], loss:0.0291\n",
            "epoch [67/100], loss:0.0281\n",
            "epoch [68/100], loss:0.0265\n",
            "epoch [69/100], loss:0.0280\n",
            "epoch [70/100], loss:0.0274\n",
            "epoch [71/100], loss:0.0269\n",
            "epoch [72/100], loss:0.0259\n",
            "epoch [73/100], loss:0.0247\n",
            "epoch [74/100], loss:0.0251\n",
            "epoch [75/100], loss:0.0246\n",
            "epoch [76/100], loss:0.0234\n",
            "epoch [77/100], loss:0.0233\n",
            "epoch [78/100], loss:0.0233\n",
            "epoch [79/100], loss:0.0239\n",
            "epoch [80/100], loss:0.0230\n",
            "epoch [81/100], loss:0.0221\n",
            "epoch [82/100], loss:0.0215\n",
            "epoch [83/100], loss:0.0205\n",
            "epoch [84/100], loss:0.0215\n",
            "epoch [85/100], loss:0.0207\n",
            "epoch [86/100], loss:0.0195\n",
            "epoch [87/100], loss:0.0191\n",
            "epoch [88/100], loss:0.0192\n",
            "epoch [89/100], loss:0.0190\n",
            "epoch [90/100], loss:0.0182\n",
            "epoch [91/100], loss:0.0183\n",
            "epoch [92/100], loss:0.0187\n",
            "epoch [93/100], loss:0.0179\n",
            "epoch [94/100], loss:0.0182\n",
            "epoch [95/100], loss:0.0174\n",
            "epoch [96/100], loss:0.0177\n",
            "epoch [97/100], loss:0.0166\n",
            "epoch [98/100], loss:0.0165\n",
            "epoch [99/100], loss:0.0164\n",
            "epoch [100/100], loss:0.0164\n"
          ],
          "name": "stdout"
        }
      ]
    },
    {
      "cell_type": "markdown",
      "metadata": {
        "id": "maaw5y6yl4as",
        "colab_type": "text"
      },
      "source": [
        ""
      ]
    },
    {
      "cell_type": "code",
      "metadata": {
        "id": "2e15Z-Y8eeKz",
        "colab_type": "code",
        "outputId": "b60347ec-de7d-4ae1-d27a-44ec70d1365e",
        "colab": {
          "base_uri": "https://localhost:8080/",
          "height": 350
        }
      },
      "source": [
        "plt.figure(figsize=(10,5))\n",
        "plt.title(\"Fonction coût de l'auto encodeur pendant l'entraînement\")\n",
        "plt.plot(loss_list,label=\"Coût auto-encodeur\")\n",
        "plt.xlabel(\"iterations\")\n",
        "plt.ylabel(\"Coût\")\n",
        "plt.legend()\n",
        "plt.show()"
      ],
      "execution_count": 0,
      "outputs": [
        {
          "output_type": "display_data",
          "data": {
            "image/png": "[encoded data removed]",
            "text/plain": [
              "<Figure size 720x360 with 1 Axes>"
            ]
          },
          "metadata": {
            "tags": [],
            "needs_background": "light"
          }
        }
      ]
    },
    {
      "cell_type": "code",
      "metadata": {
        "id": "zYa8CBgnY5kq",
        "colab_type": "code",
        "colab": {}
      },
      "source": [
        "torch.save(model.state_dict(), './conv_autoencoder.pth')"
      ],
      "execution_count": 0,
      "outputs": []
    }
  ]
}